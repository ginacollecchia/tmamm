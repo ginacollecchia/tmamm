{
 "metadata": {
  "name": "",
  "signature": "sha256:816b99deaf0108749c6108efa3a31063370b8306bc61b7e55bc969d1652be071"
 },
 "nbformat": 3,
 "nbformat_minor": 0,
 "worksheets": [
  {
   "cells": [
    {
     "cell_type": "code",
     "collapsed": false,
     "input": [
      "import codecs\n",
      "import pandas"
     ],
     "language": "python",
     "metadata": {},
     "outputs": [],
     "prompt_number": 1
    },
    {
     "cell_type": "code",
     "collapsed": false,
     "input": [
      "opened = codecs.open(\"All_iPod_Music_Cleaned_Up_031114.txt\", 'rU', 'UTF16')\n",
      "db = pandas.read_csv(opened, sep='\\t')\n",
      "names = db.columns.values.tolist()"
     ],
     "language": "python",
     "metadata": {},
     "outputs": [],
     "prompt_number": 2
    },
    {
     "cell_type": "code",
     "collapsed": false,
     "input": [
      "names"
     ],
     "language": "python",
     "metadata": {},
     "outputs": [
      {
       "metadata": {},
       "output_type": "pyout",
       "prompt_number": 3,
       "text": [
        "['Name',\n",
        " 'Artist',\n",
        " 'Composer',\n",
        " 'Album',\n",
        " 'Grouping',\n",
        " 'Genre',\n",
        " 'Size',\n",
        " 'Time',\n",
        " 'Disc Number',\n",
        " 'Disc Count',\n",
        " 'Track Number',\n",
        " 'Track Count',\n",
        " 'Year',\n",
        " 'Date Modified',\n",
        " 'Date Added',\n",
        " 'Bit Rate',\n",
        " 'Sample Rate',\n",
        " 'Volume Adjustment',\n",
        " 'Kind',\n",
        " 'Equalizer',\n",
        " 'Comments',\n",
        " 'Plays',\n",
        " 'Last Played',\n",
        " 'Skips',\n",
        " 'Last Skipped',\n",
        " 'My Rating']"
       ]
      }
     ],
     "prompt_number": 3
    },
    {
     "cell_type": "code",
     "collapsed": false,
     "input": [
      "%matplotlib inline"
     ],
     "language": "python",
     "metadata": {},
     "outputs": [],
     "prompt_number": 4
    },
    {
     "cell_type": "code",
     "collapsed": false,
     "input": [
      "import matplotlib.pyplot as plt\n",
      "import numpy as np\n",
      "from numpy import *"
     ],
     "language": "python",
     "metadata": {},
     "outputs": [],
     "prompt_number": 5
    },
    {
     "cell_type": "code",
     "collapsed": false,
     "input": [
      "L = len(db['Plays'])\n",
      "plays = db['Plays']\n",
      "playsNoNans = plays.dropna()\n",
      "whereAreNans = isnan(plays)\n",
      "plays[whereAreNans] = 0"
     ],
     "language": "python",
     "metadata": {},
     "outputs": [],
     "prompt_number": 6
    },
    {
     "cell_type": "code",
     "collapsed": false,
     "input": [
      "playlist = plays.tolist()\n",
      "playmax = int(max(playlist)) # 49 is the max playcount\n",
      "x = []\n",
      "for i in range(1, playmax-1): # don't count songs with 0 playcounts\n",
      "    x.append(playlist.count(i))"
     ],
     "language": "python",
     "metadata": {},
     "outputs": [],
     "prompt_number": 16
    },
    {
     "cell_type": "code",
     "collapsed": false,
     "input": [
      "xa = numpy.array(x)\n",
      "xlog = numpy.log(xa)"
     ],
     "language": "python",
     "metadata": {},
     "outputs": [],
     "prompt_number": 43
    },
    {
     "cell_type": "code",
     "collapsed": false,
     "input": [
      "plt.plot(xlog,'ro')\n",
      "plt.xlabel(\"Number of plays\")\n",
      "plt.ylabel(\"Log number of songs\")\n",
      "plt.show()"
     ],
     "language": "python",
     "metadata": {},
     "outputs": [
      {
       "metadata": {},
       "output_type": "display_data",
       "png": "[encoded data removed]",
       "text": [
        "<matplotlib.figure.Figure at 0x1141cb350>"
       ]
      }
     ],
     "prompt_number": 40
    },
    {
     "cell_type": "code",
     "collapsed": false,
     "input": [
      "# Plot average rating versus track number, which is proportional to track count\n",
      "\n",
      "# get ratings\n",
      "rating = db['My Rating']\n",
      "whereAreNans2 = isnan(rating)\n",
      "rating[whereAreNans2] = 0\n",
      "rlist = rating.tolist()\n",
      "# get track numbers\n",
      "tracknum = db['Track Number']\n",
      "whereAreNans3 = isnan(tracknum)\n",
      "tracknum[whereAreNans3] = 0\n",
      "# get the total trackcount\n",
      "trackcount = db['Track Count']\n",
      "tcnonans = trackcount.dropna()\n",
      "whereAreNans4 = isnan(trackcount)\n",
      "trackcount[whereAreNans4] = 0.5 # since this will be in the denominator...\n",
      "tracknum[whereAreNans4] = 0\n",
      "tnlist = tracknum.tolist()\n",
      "tclist = trackcount.tolist()"
     ],
     "language": "python",
     "metadata": {},
     "outputs": [],
     "prompt_number": 44
    },
    {
     "cell_type": "code",
     "collapsed": false,
     "input": [
      "tnlist[10]"
     ],
     "language": "python",
     "metadata": {},
     "outputs": [
      {
       "metadata": {},
       "output_type": "pyout",
       "prompt_number": 45,
       "text": [
        "10.0"
       ]
      }
     ],
     "prompt_number": 45
    },
    {
     "cell_type": "code",
     "collapsed": false,
     "input": [
      "# first: cleanup track numbers so that no track number > its track count\n",
      "for i in range(0,L):\n",
      "    if tnlist[i] > tclist[i]:\n",
      "        tnlist[i] = 0"
     ],
     "language": "python",
     "metadata": {},
     "outputs": [],
     "prompt_number": 142
    },
    {
     "cell_type": "code",
     "collapsed": false,
     "input": [
      "# get average rating\n",
      "tnmax = int(max(tnlist))\n",
      "tntot = []\n",
      "for i in range(1,tnmax):\n",
      "    tntot.append(tnlist.count(i))"
     ],
     "language": "python",
     "metadata": {},
     "outputs": [],
     "prompt_number": 143
    },
    {
     "cell_type": "code",
     "collapsed": false,
     "input": [
      "# only consider ratings that are not zero\n",
      "ratzerotn = []\n",
      "for i in range(0,L):\n",
      "    if rlist[i] == 0.0:\n",
      "        ratzerotn.append(tnlist[i])\n",
      "\n",
      "ratzerotncount = []\n",
      "for i in range(1,tnmax):\n",
      "    ratzerotncount.append(ratzerotn.count(i))\n",
      "\n",
      "truetot = numpy.array(tntot)-numpy.array(ratzerotncount)"
     ],
     "language": "python",
     "metadata": {},
     "outputs": [],
     "prompt_number": 144
    },
    {
     "cell_type": "code",
     "collapsed": false,
     "input": [
      "tnmax"
     ],
     "language": "python",
     "metadata": {},
     "outputs": [
      {
       "metadata": {},
       "output_type": "pyout",
       "prompt_number": 104,
       "text": [
        "208"
       ]
      }
     ],
     "prompt_number": 104
    },
    {
     "cell_type": "code",
     "collapsed": false,
     "input": [
      "tnrating = [0]*tnmax # initialize with a zero array\n",
      "for i in range(0,L):\n",
      "    for j in range(1,tnmax-1):\n",
      "        if tnlist[i] == float(j):\n",
      "            tnrating[j-1] = rlist[i]/truetot[j-1] + tnrating[j-1]"
     ],
     "language": "python",
     "metadata": {},
     "outputs": [],
     "prompt_number": 145
    },
    {
     "cell_type": "code",
     "collapsed": false,
     "input": [
      "whereAreNans5 = isnan(tnrating)\n",
      "tnrating = numpy.array(tnrating)\n",
      "tnrating[whereAreNans5] = 0.0"
     ],
     "language": "python",
     "metadata": {},
     "outputs": [],
     "prompt_number": 146
    },
    {
     "cell_type": "code",
     "collapsed": false,
     "input": [
      "# not relative to track count\n",
      "plt.plot(tnrating,'ro')\n",
      "plt.axis([0,25,0,100])\n",
      "plt.xlabel('Track Number')\n",
      "plt.ylabel('Average Rating')\n",
      "plt.show()"
     ],
     "language": "python",
     "metadata": {},
     "outputs": [
      {
       "metadata": {},
       "output_type": "display_data",
       "png": "[encoded data removed]",
       "text": [
        "<matplotlib.figure.Figure at 0x113277950>"
       ]
      }
     ],
     "prompt_number": 147
    },
    {
     "cell_type": "code",
     "collapsed": false,
     "input": [
      "# relative to track count\n",
      "tnrel = []\n",
      "for i in range(0,L):\n",
      "    tnrel.append(tnlist[i]/tclist[i])\n",
      "\n",
      "# need to do some windowing..."
     ],
     "language": "python",
     "metadata": {},
     "outputs": [
      {
       "ename": "NameError",
       "evalue": "name 'L' is not defined",
       "output_type": "pyerr",
       "traceback": [
        "\u001b[0;31m---------------------------------------------------------------------------\u001b[0m\n\u001b[0;31mNameError\u001b[0m                                 Traceback (most recent call last)",
        "\u001b[0;32m<ipython-input-1-d543c12cc043>\u001b[0m in \u001b[0;36m<module>\u001b[0;34m()\u001b[0m\n\u001b[1;32m      1\u001b[0m \u001b[0;31m# relative to track count\u001b[0m\u001b[0;34m\u001b[0m\u001b[0;34m\u001b[0m\u001b[0m\n\u001b[1;32m      2\u001b[0m \u001b[0mtnrel\u001b[0m \u001b[0;34m=\u001b[0m \u001b[0;34m[\u001b[0m\u001b[0;34m]\u001b[0m\u001b[0;34m\u001b[0m\u001b[0m\n\u001b[0;32m----> 3\u001b[0;31m \u001b[0;32mfor\u001b[0m \u001b[0mi\u001b[0m \u001b[0;32min\u001b[0m \u001b[0mrange\u001b[0m\u001b[0;34m(\u001b[0m\u001b[0;36m0\u001b[0m\u001b[0;34m,\u001b[0m\u001b[0mL\u001b[0m\u001b[0;34m)\u001b[0m\u001b[0;34m:\u001b[0m\u001b[0;34m\u001b[0m\u001b[0m\n\u001b[0m\u001b[1;32m      4\u001b[0m     \u001b[0mtnrel\u001b[0m\u001b[0;34m.\u001b[0m\u001b[0mappend\u001b[0m\u001b[0;34m(\u001b[0m\u001b[0mtnlist\u001b[0m\u001b[0;34m[\u001b[0m\u001b[0mi\u001b[0m\u001b[0;34m]\u001b[0m\u001b[0;34m/\u001b[0m\u001b[0mtclist\u001b[0m\u001b[0;34m[\u001b[0m\u001b[0mi\u001b[0m\u001b[0;34m]\u001b[0m\u001b[0;34m)\u001b[0m\u001b[0;34m\u001b[0m\u001b[0m\n\u001b[1;32m      5\u001b[0m \u001b[0;34m\u001b[0m\u001b[0m\n",
        "\u001b[0;31mNameError\u001b[0m: name 'L' is not defined"
       ]
      }
     ],
     "prompt_number": 1
    },
    {
     "cell_type": "code",
     "collapsed": false,
     "input": [
      "plt.plot(tnrel,rlist,'ro')\n",
      "plt.axis([0,1,0,100])\n",
      "plt.xlabel('Track Number')\n",
      "plt.ylabel('Average Rating')\n",
      "plt.show()"
     ],
     "language": "python",
     "metadata": {},
     "outputs": [
      {
       "metadata": {},
       "output_type": "display_data",
       "png": "[encoded data removed]",
       "text": [
        "<matplotlib.figure.Figure at 0x1135aeed0>"
       ]
      }
     ],
     "prompt_number": 149
    },
    {
     "cell_type": "code",
     "collapsed": false,
     "input": [],
     "language": "python",
     "metadata": {},
     "outputs": []
    }
   ],
   "metadata": {}
  }
 ]
}