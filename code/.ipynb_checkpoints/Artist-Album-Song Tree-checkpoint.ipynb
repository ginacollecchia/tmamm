{
 "metadata": {
  "name": "",
  "signature": "sha256:fdd39eb6a65e3bbb6e85759993c549a09a4fab6c4f8e54c81df747607179fe3f"
 },
 "nbformat": 3,
 "nbformat_minor": 0,
 "worksheets": [
  {
   "cells": [
    {
     "cell_type": "code",
     "collapsed": false,
     "input": [
      "import codecs\n",
      "import pandas\n",
      "db = codecs.open(\"All_iPod_Music_Cleaned_Up_031114.txt\", 'rU', 'UTF16')\n",
      "db = pandas.read_csv(db, sep='\\t') # which is a pandas data type, though it's a lot like a dict\n",
      "db_dict = dict(db)\n",
      "db_list = list(db)"
     ],
     "language": "python",
     "metadata": {},
     "outputs": [],
     "prompt_number": 16
    },
    {
     "cell_type": "code",
     "collapsed": false,
     "input": [
      "db_dict['Artist'][1902]\n",
      "alphabetized_artists = sorted(db_dict['Artist'])\n",
      "alphabetized_artists[2]"
     ],
     "language": "python",
     "metadata": {},
     "outputs": [
      {
       "metadata": {},
       "output_type": "pyout",
       "prompt_number": 92,
       "text": [
        "'10,000 Maniacs'"
       ]
      }
     ],
     "prompt_number": 92
    },
    {
     "cell_type": "code",
     "collapsed": false,
     "input": [
      "# 1. Sum how many songs each artist has and make a dictionary\n",
      "\n",
      "def getNumEntities(a):\n",
      "    b = sorted(a)\n",
      "    last = b[0]\n",
      "    first = 0\n",
      "    count = []\n",
      "    field_name = []\n",
      "    for i in xrange(1, len(b)):\n",
      "        if a[i] == last:\n",
      "            continue\n",
      "        else:\n",
      "            count.append(i - first)\n",
      "            field_name.append(last)\n",
      "            last = b[i]\n",
      "            first = i\n",
      "    return field_name, count"
     ],
     "language": "python",
     "metadata": {},
     "outputs": [],
     "prompt_number": 113
    },
    {
     "cell_type": "code",
     "collapsed": false,
     "input": [
      "(unique_artists, counts) = getNumEntities(alphabetized_artists)\n",
      "# now make a dictionary\n",
      "artist_num_songs = dict(zip(unique_artists, counts))"
     ],
     "language": "python",
     "metadata": {},
     "outputs": [],
     "prompt_number": 116
    },
    {
     "cell_type": "code",
     "collapsed": false,
     "input": [
      "artist_num_songs['Al Green']"
     ],
     "language": "python",
     "metadata": {},
     "outputs": [
      {
       "metadata": {},
       "output_type": "pyout",
       "prompt_number": 117,
       "text": [
        "28"
       ]
      }
     ],
     "prompt_number": 117
    },
    {
     "cell_type": "code",
     "collapsed": false,
     "input": [
      "# It would be nicer instead to have all albums in a dictionary, e.g. a dictionary of dictionaries...\n",
      "# to look like:\n",
      "# artist_dict = {'name': 'The Beatles', 'albums':[{'name':'Please Please Me','year':1968, 'songs':{'}},{'name':\n",
      "# 'Help!','year':1969}]}\n",
      "from collections import defaultdict\n",
      "songs = db['Name']\n",
      "albums = db['Album']\n",
      "artists = db['Artist']\n",
      "playcounts = db['Plays']\n",
      "skipcounts = db['Skips']\n",
      "years = db['Year']\n",
      "tracknum = db['Track Number']\n",
      "tracktot = db['Track Count']\n",
      "# artist_dict = dict.fromkeys(artists)\n",
      "# artist_dict = defaultdict(dict) # automatically create a subdict\n",
      "# artist_dict = {x:i for x,i in enumerate(artists)} # just puts integers in there for now"
     ],
     "language": "python",
     "metadata": {},
     "outputs": [],
     "prompt_number": 25
    },
    {
     "cell_type": "code",
     "collapsed": false,
     "input": [
      "# An artist has albums, songs, and more\n",
      "from numpy import *\n",
      "\n",
      "# create Song class\n",
      "class Song(object):\n",
      "    '''song, an entity of album and artist'''\n",
      "    def __init__(self, name, track_num, play_count, skip_count):\n",
      "        self.name = name\n",
      "        # self.album = album # the parent class\n",
      "        # self.year -- don't include this because it will be part of the Album class\n",
      "        self.track_num = track_num\n",
      "        self.play_count = play_count\n",
      "        self.skip_count = skip_count\n",
      "        \n",
      "# create Album parent class\n",
      "class Album:\n",
      "    def __init__(self, name, year, track_total, song):\n",
      "        self.name = name\n",
      "        self.year = year\n",
      "        self.track_total = track_total\n",
      "        self.song = song\n",
      "    \n",
      "    # return a list of the songs on the album. doesn't work.\n",
      "    def __songs__(self):\n",
      "        return self.song\n",
      "\n",
      "# create the parent parent Artist class\n",
      "class Artist:\n",
      "    def __init__(self, name, album):\n",
      "        self.name = name\n",
      "        self.album = album"
     ],
     "language": "python",
     "metadata": {},
     "outputs": [],
     "prompt_number": 128
    },
    {
     "cell_type": "code",
     "collapsed": false,
     "input": [
      "ar = [0] * len(artists)\n",
      "for i in range(0, len(songs)):\n",
      "    song = Song(songs[i], tracknum[i], playcounts[i], skipcounts[i])\n",
      "    album = Album(albums[i], years[i], tracktot[i], song)\n",
      "    ar[i] = Artist(artists[i], album)\n",
      "\n",
      "ar[7].album.name"
     ],
     "language": "python",
     "metadata": {},
     "outputs": [
      {
       "metadata": {},
       "output_type": "pyout",
       "prompt_number": 129,
       "text": [
        "'The Very Best Of Al Green'"
       ]
      }
     ],
     "prompt_number": 129
    },
    {
     "cell_type": "code",
     "collapsed": false,
     "input": [
      "# sort by album name\n",
      "ar_sorted = sorted(ar, key=lambda artist: artist.album.name)"
     ],
     "language": "python",
     "metadata": {},
     "outputs": [],
     "prompt_number": 135
    },
    {
     "cell_type": "code",
     "collapsed": false,
     "input": [
      "ar_sorted[7].album.name"
     ],
     "language": "python",
     "metadata": {},
     "outputs": [
      {
       "metadata": {},
       "output_type": "pyout",
       "prompt_number": 145,
       "text": [
        "nan"
       ]
      }
     ],
     "prompt_number": 145
    },
    {
     "cell_type": "code",
     "collapsed": false,
     "input": [
      "ar_sorted[0].album.song.name"
     ],
     "language": "python",
     "metadata": {},
     "outputs": [
      {
       "metadata": {},
       "output_type": "pyout",
       "prompt_number": 133,
       "text": [
        "'Like What, Me Worry'"
       ]
      }
     ],
     "prompt_number": 133
    },
    {
     "cell_type": "code",
     "collapsed": false,
     "input": [
      "al = [0] * len(albums)\n",
      "for i in range(0, len(albums)):\n",
      "    song = Song(songs[i], tracknum[i], playcounts[i], skipcounts[i])\n",
      "    al[i] = Album(albums[i], years[i], tracktot[i], song)\n",
      "    \n",
      "al_sorted = sorted(al, key=lambda album: album.name)\n",
      "al_sorted[0].name\n",
      "isnan(al_sorted[0].name)"
     ],
     "language": "python",
     "metadata": {},
     "outputs": [
      {
       "metadata": {},
       "output_type": "pyout",
       "prompt_number": 121,
       "text": [
        "True"
       ]
      }
     ],
     "prompt_number": 121
    },
    {
     "cell_type": "code",
     "collapsed": false,
     "input": [],
     "language": "python",
     "metadata": {},
     "outputs": [
      {
       "ename": "TypeError",
       "evalue": "'Series' object is not callable",
       "output_type": "pyerr",
       "traceback": [
        "\u001b[0;31m---------------------------------------------------------------------------\u001b[0m\n\u001b[0;31mTypeError\u001b[0m                                 Traceback (most recent call last)",
        "\u001b[0;32m<ipython-input-147-03277b124054>\u001b[0m in \u001b[0;36m<module>\u001b[0;34m()\u001b[0m\n\u001b[0;32m----> 1\u001b[0;31m \u001b[0msongs\u001b[0m\u001b[0;34m(\u001b[0m\u001b[0mar_sorted\u001b[0m\u001b[0;34m[\u001b[0m\u001b[0;36m5\u001b[0m\u001b[0;34m]\u001b[0m\u001b[0;34m.\u001b[0m\u001b[0malbum\u001b[0m\u001b[0;34m)\u001b[0m\u001b[0;34m\u001b[0m\u001b[0m\n\u001b[0m",
        "\u001b[0;31mTypeError\u001b[0m: 'Series' object is not callable"
       ]
      }
     ],
     "prompt_number": 147
    },
    {
     "cell_type": "code",
     "collapsed": false,
     "input": [
      "al_sorted[29000].name"
     ],
     "language": "python",
     "metadata": {},
     "outputs": [
      {
       "metadata": {},
       "output_type": "pyout",
       "prompt_number": 130,
       "text": [
        "'Wild Animus, Part One: The Ram'"
       ]
      }
     ],
     "prompt_number": 130
    },
    {
     "cell_type": "code",
     "collapsed": false,
     "input": [],
     "language": "python",
     "metadata": {},
     "outputs": [],
     "prompt_number": 107
    },
    {
     "cell_type": "code",
     "collapsed": false,
     "input": [],
     "language": "python",
     "metadata": {},
     "outputs": []
    }
   ],
   "metadata": {}
  }
 ]
}