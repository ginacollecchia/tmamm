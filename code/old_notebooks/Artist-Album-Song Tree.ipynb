{
 "metadata": {
  "name": "",
  "signature": "sha256:a78b07875da43e4987d8d2233724034ae7c7357c9d80877e3e0d6c87b1655c5b"
 },
 "nbformat": 3,
 "nbformat_minor": 0,
 "worksheets": [
  {
   "cells": [
    {
     "cell_type": "code",
     "collapsed": false,
     "input": [
      "import codecs\n",
      "import pandas\n",
      "db = codecs.open(\"All_iPod_Music_Cleaned_Up_031114.txt\", 'rU', 'UTF16')\n",
      "db = pandas.read_csv(db, sep='\\t') # which is a pandas data type, though it's a lot like a dict\n",
      "db_dict = dict(db)\n",
      "db_list = list(db)"
     ],
     "language": "python",
     "metadata": {},
     "outputs": [],
     "prompt_number": 4
    },
    {
     "cell_type": "code",
     "collapsed": false,
     "input": [
      "db_dict['Artist'][1902]\n",
      "alphabetized_artists = sorted(db_dict['Artist'])\n",
      "alphabetized_artists[2]"
     ],
     "language": "python",
     "metadata": {},
     "outputs": [
      {
       "metadata": {},
       "output_type": "pyout",
       "prompt_number": 5,
       "text": [
        "'10,000 Maniacs'"
       ]
      }
     ],
     "prompt_number": 5
    },
    {
     "cell_type": "code",
     "collapsed": false,
     "input": [
      "# 1. Sum how many songs each artist has and make a dictionary\n",
      "\n",
      "def getNumEntities(a):\n",
      "    b = sorted(a)\n",
      "    last = b[0]\n",
      "    first = 0\n",
      "    count = []\n",
      "    field_name = []\n",
      "    for i in xrange(1, len(b)):\n",
      "        if a[i] == last:\n",
      "            continue\n",
      "        else:\n",
      "            count.append(i - first)\n",
      "            field_name.append(last)\n",
      "            last = b[i]\n",
      "            first = i\n",
      "    return field_name, count"
     ],
     "language": "python",
     "metadata": {},
     "outputs": [],
     "prompt_number": 6
    },
    {
     "cell_type": "code",
     "collapsed": false,
     "input": [
      "(unique_artists, counts) = getNumEntities(alphabetized_artists)\n",
      "# now make a dictionary\n",
      "artist_num_songs = dict(zip(unique_artists, counts))"
     ],
     "language": "python",
     "metadata": {},
     "outputs": [],
     "prompt_number": 7
    },
    {
     "cell_type": "code",
     "collapsed": false,
     "input": [
      "artist_num_songs['Al Green']"
     ],
     "language": "python",
     "metadata": {},
     "outputs": [
      {
       "metadata": {},
       "output_type": "pyout",
       "prompt_number": 8,
       "text": [
        "28"
       ]
      }
     ],
     "prompt_number": 8
    },
    {
     "cell_type": "code",
     "collapsed": false,
     "input": [
      "# It would be nicer instead to have all albums in a dictionary, e.g. a dictionary of dictionaries...\n",
      "# to look like:\n",
      "# artist_dict = {'name': 'The Beatles', 'albums':[{'name':'Please Please Me','year':1968, 'songs':{'}},{'name':\n",
      "# 'Help!','year':1969}]}\n",
      "from collections import defaultdict\n",
      "songs = db['Name']\n",
      "albums = db['Album']\n",
      "artists = db['Artist']\n",
      "playcounts = db['Plays']\n",
      "skipcounts = db['Skips']\n",
      "years = db['Year']\n",
      "tracknum = db['Track Number']\n",
      "tracktot = db['Track Count']\n",
      "# artist_dict = dict.fromkeys(artists)\n",
      "# artist_dict = defaultdict(dict) # automatically create a subdict\n",
      "# artist_dict = {x:i for x,i in enumerate(artists)} # just puts integers in there for now"
     ],
     "language": "python",
     "metadata": {},
     "outputs": [],
     "prompt_number": 9
    },
    {
     "cell_type": "code",
     "collapsed": false,
     "input": [
      "# An artist has albums, songs, and more\n",
      "from numpy import *\n",
      "\n",
      "# create Song class\n",
      "class Song(object):\n",
      "    '''song, an entity of album and artist'''\n",
      "    def __init__(self, name, track_num, play_count, skip_count):\n",
      "        self.name = name\n",
      "        # self.album = album # the parent class\n",
      "        # self.year -- don't include this because it will be part of the Album class\n",
      "        self.track_num = track_num\n",
      "        self.play_count = play_count\n",
      "        self.skip_count = skip_count\n",
      "        \n",
      "# create Album parent class\n",
      "class Album:\n",
      "    def __init__(self, name, year, track_total, song):\n",
      "        self.name = name\n",
      "        self.year = year\n",
      "        self.track_total = track_total\n",
      "        self.song = song\n",
      "    \n",
      "    # return a list of the songs on the album. doesn't work.\n",
      "    def __songs__(self):\n",
      "        return self.song\n",
      "\n",
      "# create the parent parent Artist class\n",
      "class Artist:\n",
      "    def __init__(self, name, album):\n",
      "        self.name = name\n",
      "        self.album = album"
     ],
     "language": "python",
     "metadata": {},
     "outputs": [],
     "prompt_number": 10
    },
    {
     "cell_type": "code",
     "collapsed": false,
     "input": [
      "ar = [0] * len(artists)\n",
      "for i in range(0, len(songs)):\n",
      "    song = Song(songs[i], tracknum[i], playcounts[i], skipcounts[i])\n",
      "    album = Album(albums[i], years[i], tracktot[i], song)\n",
      "    ar[i] = Artist(artists[i], album)\n",
      "\n",
      "ar[7].album.name"
     ],
     "language": "python",
     "metadata": {},
     "outputs": [
      {
       "metadata": {},
       "output_type": "pyout",
       "prompt_number": 11,
       "text": [
        "'The Very Best Of Al Green'"
       ]
      }
     ],
     "prompt_number": 11
    },
    {
     "cell_type": "code",
     "collapsed": false,
     "input": [
      "# sort by album name\n",
      "ar_sorted = sorted(ar, key=lambda artist: artist.album.name)"
     ],
     "language": "python",
     "metadata": {},
     "outputs": [],
     "prompt_number": 12
    },
    {
     "cell_type": "code",
     "collapsed": false,
     "input": [
      "ar_sorted[7].album.name"
     ],
     "language": "python",
     "metadata": {},
     "outputs": [
      {
       "metadata": {},
       "output_type": "pyout",
       "prompt_number": 13,
       "text": [
        "nan"
       ]
      }
     ],
     "prompt_number": 13
    },
    {
     "cell_type": "code",
     "collapsed": false,
     "input": [
      "ar_sorted[0].album.song.name\n",
      "len(ar_sorted)"
     ],
     "language": "python",
     "metadata": {},
     "outputs": [
      {
       "metadata": {},
       "output_type": "pyout",
       "prompt_number": 14,
       "text": [
        "29866"
       ]
      }
     ],
     "prompt_number": 14
    },
    {
     "cell_type": "code",
     "collapsed": false,
     "input": [
      "al = [0] * len(albums)\n",
      "for i in range(0, len(albums)):\n",
      "    song = Song(songs[i], tracknum[i], playcounts[i], skipcounts[i])\n",
      "    al[i] = Album(albums[i], years[i], tracktot[i], song)\n",
      "    \n",
      "al_sorted = sorted(al, key=lambda album: album.name)\n",
      "al_sorted[0].name\n",
      "isnan(al_sorted[0].name)"
     ],
     "language": "python",
     "metadata": {},
     "outputs": [
      {
       "metadata": {},
       "output_type": "pyout",
       "prompt_number": 15,
       "text": [
        "True"
       ]
      }
     ],
     "prompt_number": 15
    },
    {
     "cell_type": "code",
     "collapsed": false,
     "input": [
      "# 2. Determine the number of albums an artist has\n",
      "ar_sorted2 = sorted(ar, key=lambda artist: artist.name)\n",
      "album_dict = {}\n",
      "last = ar_sorted2[0].name\n",
      "albums_by_artist = ar_sorted2[0].album.name\n",
      "for i in xrange(1, len(ar_sorted2)):\n",
      "    if ar_sorted2[i].name == last:\n",
      "        albums_by_artist.add(ar_sorted2[i].album.name) # since it's a set, it won't add duplicates\n",
      "    else:\n",
      "        # store in dictionary\n",
      "        album_dict[last] = albums_by_artist\n",
      "        # reset to empty set\n",
      "        albums_by_artist = set()\n",
      "        last = ar_sorted2[i].name"
     ],
     "language": "python",
     "metadata": {},
     "outputs": [],
     "prompt_number": 16
    },
    {
     "cell_type": "code",
     "collapsed": false,
     "input": [
      "album_dict = dict(album_dict)"
     ],
     "language": "python",
     "metadata": {},
     "outputs": [],
     "prompt_number": 17
    },
    {
     "cell_type": "code",
     "collapsed": false,
     "input": [
      "numAlbums = [0] * len(unique_artists)\n",
      "album_artist_counts = {}\n",
      "for i in xrange(0, len(unique_artists)):\n",
      "    a = list(album_dict[unique_artists[i]])\n",
      "    # print a\n",
      "    if len(a) >= 1:\n",
      "        if len(str(a[0])) == 1:\n",
      "            # concatenate album\n",
      "            # album_dict[unique_artists[i]] = ''.join(a)\n",
      "            numAlbums = 1\n",
      "        else:\n",
      "            numAlbums = len(a)\n",
      "        # will only record number of albums if it's greater than 1\n",
      "        album_artist_counts[unique_artists[i]] = numAlbums\n",
      "    else:\n",
      "        album_artist_counts[unique_artists[i]] = 0"
     ],
     "language": "python",
     "metadata": {},
     "outputs": [],
     "prompt_number": 18
    },
    {
     "cell_type": "code",
     "collapsed": false,
     "input": [
      "ar_sorted2[110].name"
     ],
     "language": "python",
     "metadata": {},
     "outputs": [
      {
       "metadata": {},
       "output_type": "pyout",
       "prompt_number": 19,
       "text": [
        "'A Tribe Called Quest'"
       ]
      }
     ],
     "prompt_number": 19
    },
    {
     "cell_type": "code",
     "collapsed": false,
     "input": [
      "album_artist_counts['The Beatles']"
     ],
     "language": "python",
     "metadata": {},
     "outputs": [
      {
       "metadata": {},
       "output_type": "pyout",
       "prompt_number": 20,
       "text": [
        "30"
       ]
      }
     ],
     "prompt_number": 20
    },
    {
     "cell_type": "code",
     "collapsed": false,
     "input": [],
     "language": "python",
     "metadata": {},
     "outputs": []
    }
   ],
   "metadata": {}
  }
 ]
}