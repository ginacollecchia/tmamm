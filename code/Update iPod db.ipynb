{
 "metadata": {
  "name": "",
  "signature": "sha256:0dbcce1862701f5b5e843a9db382b8a0f0f5b35ab41b22b8485cdee408a33e06"
 },
 "nbformat": 3,
 "nbformat_minor": 0,
 "worksheets": [
  {
   "cells": [
    {
     "cell_type": "code",
     "collapsed": false,
     "input": [
      "# Sync old iPod playlists with new by adding old play counts to new and resetting ratings unless new rating is not nan.\n",
      "import pandas\n",
      "import codecs\n",
      "db = codecs.open(\"All_iPod_Music_Cleaned_Up_031114.txt\", 'rU', 'UTF16')\n",
      "db = pandas.read_csv(db, sep='\\t') # which is a pandas data type, though it's a lot like a dict\n",
      "db_dict = dict(db)\n",
      "db_list = list(db)\n"
     ],
     "language": "python",
     "metadata": {},
     "outputs": []
    }
   ],
   "metadata": {}
  }
 ]
}