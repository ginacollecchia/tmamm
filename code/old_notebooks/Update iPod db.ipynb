{
 "metadata": {
  "name": "",
  "signature": "sha256:31309d0d068f03d767c567078736ff45bead6368601ea2588c70163fd1930b9c"
 },
 "nbformat": 3,
 "nbformat_minor": 0,
 "worksheets": [
  {
   "cells": [
    {
     "cell_type": "code",
     "collapsed": false,
     "input": [
      "# Sync old iPod playlists with new by adding old play counts to new and resetting ratings unless new rating is not nan.\n",
      "import pandas\n",
      "import codecs\n",
      "db = codecs.open(\"All_iPod_Music_062414.txt\", 'rU', 'UTF16')\n",
      "db = pandas.read_csv(db, sep='\\t') # which is a pandas data frame, though it's a lot like a dict\n",
      "db_dict = dict(db)\n",
      "db_new = codecs.open(\"All_iPod_Music_062414_onnewmac.txt\", \"rU\", \"UTF16\")\n",
      "db_new = pandas.read_csv(db_new, sep=\"\\t\")\n",
      "db_new_dict = dict(db_new)"
     ],
     "language": "python",
     "metadata": {},
     "outputs": [],
     "prompt_number": 1
    },
    {
     "cell_type": "code",
     "collapsed": false,
     "input": [
      "# Make a playlist of all 5-star ratings\n",
      "ratings = db['My Rating']\n",
      "db['My Rating'][5]"
     ],
     "language": "python",
     "metadata": {},
     "outputs": [
      {
       "metadata": {},
       "output_type": "pyout",
       "prompt_number": 2,
       "text": [
        "100.0"
       ]
      }
     ],
     "prompt_number": 2
    },
    {
     "cell_type": "code",
     "collapsed": false,
     "input": [
      "# ratings = ratings.dropna()\n",
      "onestar = []\n",
      "twostar = []\n",
      "threestar = []\n",
      "fourstar = []\n",
      "fivestar = []"
     ],
     "language": "python",
     "metadata": {},
     "outputs": [],
     "prompt_number": 3
    },
    {
     "cell_type": "code",
     "collapsed": false,
     "input": [
      "# This would work if I only needed to update ratings. This creates 5 playlists, \n",
      "# and the user can than manually select all in the playlist and change the rating\n",
      "# to the same number of stars for all items in the playlist. Trivial, but still \n",
      "# manual. \n",
      "\n",
      "for i in xrange(0, len(ratings)):\n",
      "    if ratings[i] == 20:\n",
      "        # add line of db\n",
      "        onestar.append(db.values[i])\n",
      "    elif ratings[i] == 40:\n",
      "        twostar.append(db.values[i])\n",
      "    elif ratings[i] == 60:\n",
      "        threestar.append(db.values[i])\n",
      "    elif ratings[i] == 80:\n",
      "        fourstar.append(db.values[i])\n",
      "    elif ratings[i] == 100:\n",
      "        fivestar.append(db.values[i])\n",
      "\n",
      "onestar"
     ],
     "language": "python",
     "metadata": {},
     "outputs": []
    },
    {
     "cell_type": "code",
     "collapsed": false,
     "input": [
      "# now save playlists so we can import to iTunes\n",
      "fieldnames = list(db)\n",
      "dfone = pandas.core.frame.DataFrame(onestar, columns=fieldnames)\n",
      "dftwo = pandas.core.frame.DataFrame(twostar, columns=fieldnames)\n",
      "dfthree = pandas.core.frame.DataFrame(threestar, columns=fieldnames)\n",
      "dffour = pandas.core.frame.DataFrame(fourstar, columns=fieldnames)\n",
      "dffive = pandas.core.frame.DataFrame(fivestar, columns=fieldnames)"
     ],
     "language": "python",
     "metadata": {},
     "outputs": [],
     "prompt_number": 49
    },
    {
     "cell_type": "code",
     "collapsed": false,
     "input": [
      "dfone.to_csv('Onestar_062414.txt',sep='\\t')\n",
      "dftwo.to_csv('Twostar_062414.txt', sep='\\t')\n",
      "dfthree.to_csv('Threestar_062414.txt', sep='\\t')\n",
      "dffour.to_csv('Fourstar_062414.txt', sep='\\t')\n",
      "dffive.to_csv('Fivestar_062414.txt', sep='\\t')"
     ],
     "language": "python",
     "metadata": {},
     "outputs": [],
     "prompt_number": 50
    },
    {
     "cell_type": "code",
     "collapsed": false,
     "input": [
      "songs_rated = float(len(onestar) + len(twostar) + len(threestar) + len(fourstar) + len(fivestar))/len(ratings)"
     ],
     "language": "python",
     "metadata": {},
     "outputs": [],
     "prompt_number": 56
    },
    {
     "cell_type": "code",
     "collapsed": false,
     "input": [
      "songs_rated"
     ],
     "language": "python",
     "metadata": {},
     "outputs": [
      {
       "metadata": {},
       "output_type": "pyout",
       "prompt_number": 57,
       "text": [
        "0.10955234874610774"
       ]
      }
     ],
     "prompt_number": 57
    },
    {
     "cell_type": "code",
     "collapsed": false,
     "input": [
      "for item in db['Name']:\n",
      "    print item"
     ],
     "language": "python",
     "metadata": {},
     "outputs": []
    },
    {
     "cell_type": "code",
     "collapsed": false,
     "input": [
      "# A different approach: lookup items from the \"new\" (local) DB_NEW in the database to be merged, DB.\n",
      "\n",
      "# define tuples of song, artist, album to look up in the new db\n",
      "# Careful, because there are certainly songs with the same name and different artists out there.\n",
      "db_new_lookup = db_new[['Name', 'Artist', 'Album']]\n",
      "db_new_lookup['Name'][5]\n",
      "\n",
      "# for item in db_new_lookup:\n",
      "#     # print(item.loc)\n",
      "#     # if item is in the old library and doesn't have a rating in the new, update it to the old rating\n",
      "#     # need to do NaN handling too\n",
      "#     if item in db & db_new['My Rating'][item] == nan:\n",
      "#         db_new['My Rating'][item] = db['My Rating'][item]\n",
      "#         db_new['Plays'][item] += db['Plays'][item]\n",
      "#         db_new['Skips'][item] += db['Skips'][item]\n",
      "#         # update last played and last skipped too"
     ],
     "language": "python",
     "metadata": {},
     "outputs": [
      {
       "metadata": {},
       "output_type": "pyout",
       "prompt_number": 48,
       "text": [
        "'Tell Me Why'"
       ]
      }
     ],
     "prompt_number": 48
    },
    {
     "cell_type": "code",
     "collapsed": false,
     "input": [
      "for i in xrange(0, len(db_new)):\n",
      "    if db_new['Name'][i] in db['Name'] & db_new['Artist'][i] in db['Artist'] & db_new['Album'][i] in db['Album'] & math.isnan(db_new['My Rating']):\n",
      "        # need to get the index of item\n",
      "        db_new['My Rating'][i] = db['My Rating'][item]\n",
      "        db_new['Plays'][i] += db['Plays'][item]\n",
      "        db_new['Skips'][i] += db['Skips'][item]\n"
     ],
     "language": "python",
     "metadata": {},
     "outputs": [
      {
       "ename": "TypeError",
       "evalue": "cannot compare a dtyped [object] array with a scalar of type [bool]",
       "output_type": "pyerr",
       "traceback": [
        "\u001b[0;31m---------------------------------------------------------------------------\u001b[0m\n\u001b[0;31mTypeError\u001b[0m                                 Traceback (most recent call last)",
        "\u001b[0;32m<ipython-input-49-18499748c223>\u001b[0m in \u001b[0;36m<module>\u001b[0;34m()\u001b[0m\n\u001b[1;32m      1\u001b[0m \u001b[0;32mfor\u001b[0m \u001b[0mi\u001b[0m \u001b[0;32min\u001b[0m \u001b[0mxrange\u001b[0m\u001b[0;34m(\u001b[0m\u001b[0;36m0\u001b[0m\u001b[0;34m,\u001b[0m \u001b[0mlen\u001b[0m\u001b[0;34m(\u001b[0m\u001b[0mdb_new\u001b[0m\u001b[0;34m)\u001b[0m\u001b[0;34m)\u001b[0m\u001b[0;34m:\u001b[0m\u001b[0;34m\u001b[0m\u001b[0m\n\u001b[0;32m----> 2\u001b[0;31m     \u001b[0;32mif\u001b[0m \u001b[0mdb_new\u001b[0m\u001b[0;34m[\u001b[0m\u001b[0;34m'Name'\u001b[0m\u001b[0;34m]\u001b[0m\u001b[0;34m[\u001b[0m\u001b[0mi\u001b[0m\u001b[0;34m]\u001b[0m \u001b[0;32min\u001b[0m \u001b[0mdb\u001b[0m\u001b[0;34m[\u001b[0m\u001b[0;34m'Name'\u001b[0m\u001b[0;34m]\u001b[0m \u001b[0;34m&\u001b[0m \u001b[0mdb_new\u001b[0m\u001b[0;34m[\u001b[0m\u001b[0;34m'Artist'\u001b[0m\u001b[0;34m]\u001b[0m\u001b[0;34m[\u001b[0m\u001b[0mi\u001b[0m\u001b[0;34m]\u001b[0m \u001b[0;32min\u001b[0m \u001b[0mdb\u001b[0m\u001b[0;34m[\u001b[0m\u001b[0;34m'Artist'\u001b[0m\u001b[0;34m]\u001b[0m \u001b[0;34m&\u001b[0m \u001b[0mdb_new\u001b[0m\u001b[0;34m[\u001b[0m\u001b[0;34m'Album'\u001b[0m\u001b[0;34m]\u001b[0m\u001b[0;34m[\u001b[0m\u001b[0mi\u001b[0m\u001b[0;34m]\u001b[0m \u001b[0;32min\u001b[0m \u001b[0mdb\u001b[0m\u001b[0;34m[\u001b[0m\u001b[0;34m'Album'\u001b[0m\u001b[0;34m]\u001b[0m \u001b[0;34m&\u001b[0m \u001b[0mmath\u001b[0m\u001b[0;34m.\u001b[0m\u001b[0misnan\u001b[0m\u001b[0;34m(\u001b[0m\u001b[0mdb_new\u001b[0m\u001b[0;34m[\u001b[0m\u001b[0;34m'My Rating'\u001b[0m\u001b[0;34m]\u001b[0m\u001b[0;34m)\u001b[0m\u001b[0;34m:\u001b[0m\u001b[0;34m\u001b[0m\u001b[0m\n\u001b[0m\u001b[1;32m      3\u001b[0m         \u001b[0;31m# need to get the index of item\u001b[0m\u001b[0;34m\u001b[0m\u001b[0;34m\u001b[0m\u001b[0m\n\u001b[1;32m      4\u001b[0m         \u001b[0mdb_new\u001b[0m\u001b[0;34m[\u001b[0m\u001b[0;34m'My Rating'\u001b[0m\u001b[0;34m]\u001b[0m\u001b[0;34m[\u001b[0m\u001b[0mi\u001b[0m\u001b[0;34m]\u001b[0m \u001b[0;34m=\u001b[0m \u001b[0mdb\u001b[0m\u001b[0;34m[\u001b[0m\u001b[0;34m'My Rating'\u001b[0m\u001b[0;34m]\u001b[0m\u001b[0;34m[\u001b[0m\u001b[0mitem\u001b[0m\u001b[0;34m]\u001b[0m\u001b[0;34m\u001b[0m\u001b[0m\n\u001b[1;32m      5\u001b[0m         \u001b[0mdb_new\u001b[0m\u001b[0;34m[\u001b[0m\u001b[0;34m'Plays'\u001b[0m\u001b[0;34m]\u001b[0m\u001b[0;34m[\u001b[0m\u001b[0mi\u001b[0m\u001b[0;34m]\u001b[0m \u001b[0;34m+=\u001b[0m \u001b[0mdb\u001b[0m\u001b[0;34m[\u001b[0m\u001b[0;34m'Plays'\u001b[0m\u001b[0;34m]\u001b[0m\u001b[0;34m[\u001b[0m\u001b[0mitem\u001b[0m\u001b[0;34m]\u001b[0m\u001b[0;34m\u001b[0m\u001b[0m\n",
        "\u001b[0;32m/Users/probraino/.virtualenvs/tmamm2/lib/python2.7/site-packages/pandas/core/ops.pyc\u001b[0m in \u001b[0;36mwrapper\u001b[0;34m(self, other)\u001b[0m\n\u001b[1;32m    635\u001b[0m         \u001b[0;32melse\u001b[0m\u001b[0;34m:\u001b[0m\u001b[0;34m\u001b[0m\u001b[0m\n\u001b[1;32m    636\u001b[0m             \u001b[0;31m# scalars\u001b[0m\u001b[0;34m\u001b[0m\u001b[0;34m\u001b[0m\u001b[0m\n\u001b[0;32m--> 637\u001b[0;31m             res = self._constructor(na_op(self.values, other),\n\u001b[0m\u001b[1;32m    638\u001b[0m                                     index=self.index).fillna(False)\n\u001b[1;32m    639\u001b[0m             \u001b[0;32mreturn\u001b[0m \u001b[0mres\u001b[0m\u001b[0;34m.\u001b[0m\u001b[0mastype\u001b[0m\u001b[0;34m(\u001b[0m\u001b[0mbool\u001b[0m\u001b[0;34m)\u001b[0m\u001b[0;34m.\u001b[0m\u001b[0m__finalize__\u001b[0m\u001b[0;34m(\u001b[0m\u001b[0mself\u001b[0m\u001b[0;34m)\u001b[0m\u001b[0;34m\u001b[0m\u001b[0m\n",
        "\u001b[0;32m/Users/probraino/.virtualenvs/tmamm2/lib/python2.7/site-packages/pandas/core/ops.pyc\u001b[0m in \u001b[0;36mna_op\u001b[0;34m(x, y)\u001b[0m\n\u001b[1;32m    619\u001b[0m                     raise TypeError(\"cannot compare a dtyped [{0}] array with \"\n\u001b[1;32m    620\u001b[0m                                     \"a scalar of type [{1}]\".format(\n\u001b[0;32m--> 621\u001b[0;31m                                         x.dtype, type(y).__name__))\n\u001b[0m\u001b[1;32m    622\u001b[0m \u001b[0;34m\u001b[0m\u001b[0m\n\u001b[1;32m    623\u001b[0m         \u001b[0;32mreturn\u001b[0m \u001b[0mresult\u001b[0m\u001b[0;34m\u001b[0m\u001b[0m\n",
        "\u001b[0;31mTypeError\u001b[0m: cannot compare a dtyped [object] array with a scalar of type [bool]"
       ]
      }
     ],
     "prompt_number": 49
    },
    {
     "cell_type": "code",
     "collapsed": false,
     "input": [],
     "language": "python",
     "metadata": {},
     "outputs": []
    }
   ],
   "metadata": {}
  }
 ]
}