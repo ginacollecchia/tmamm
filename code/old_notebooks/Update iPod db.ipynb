{
 "metadata": {
  "name": "",
  "signature": "sha256:adf49ebb0253f4a37ee4dfd17242c7e4dc740ce642cd1dea13a16be98a94052c"
 },
 "nbformat": 3,
 "nbformat_minor": 0,
 "worksheets": [
  {
   "cells": [
    {
     "cell_type": "code",
     "collapsed": false,
     "input": [
      "# Sync old iPod playlists with new by adding old play counts to new and resetting ratings unless new rating is not nan.\n",
      "import pandas\n",
      "import codecs\n",
      "db = codecs.open(\"../data/All_iPod_Music_062414.txt\", 'rU', 'UTF16')\n",
      "db = pandas.read_csv(db, sep='\\t') # which is a pandas data frame, though it's a lot like a dict\n",
      "db_dict = dict(db)\n",
      "db_new = codecs.open(\"../data/All_iPod_Music_062414_onnewmac.txt\", \"rU\", \"UTF16\")\n",
      "db_new = pandas.read_csv(db_new, sep=\"\\t\")\n",
      "db_new_dict = dict(db_new)"
     ],
     "language": "python",
     "metadata": {},
     "outputs": [],
     "prompt_number": 1
    },
    {
     "cell_type": "code",
     "collapsed": false,
     "input": [
      "# Make a playlist of all 5-star ratings\n",
      "ratings = db['My Rating']\n",
      "db['My Rating'][5]"
     ],
     "language": "python",
     "metadata": {},
     "outputs": [
      {
       "metadata": {},
       "output_type": "pyout",
       "prompt_number": 2,
       "text": [
        "100.0"
       ]
      }
     ],
     "prompt_number": 2
    },
    {
     "cell_type": "code",
     "collapsed": false,
     "input": [
      "# ratings = ratings.dropna()\n",
      "onestar = []\n",
      "twostar = []\n",
      "threestar = []\n",
      "fourstar = []\n",
      "fivestar = []"
     ],
     "language": "python",
     "metadata": {},
     "outputs": [],
     "prompt_number": 3
    },
    {
     "cell_type": "code",
     "collapsed": false,
     "input": [
      "# This would work if I only needed to update ratings. This creates 5 playlists, \n",
      "# and the user can than manually select all in the playlist and change the rating\n",
      "# to the same number of stars for all items in the playlist. Trivial, but still \n",
      "# manual. \n",
      "\n",
      "for i in xrange(0, len(ratings)):\n",
      "    if ratings[i] == 20:\n",
      "        # add line of db\n",
      "        onestar.append(db.values[i])\n",
      "    elif ratings[i] == 40:\n",
      "        twostar.append(db.values[i])\n",
      "    elif ratings[i] == 60:\n",
      "        threestar.append(db.values[i])\n",
      "    elif ratings[i] == 80:\n",
      "        fourstar.append(db.values[i])\n",
      "    elif ratings[i] == 100:\n",
      "        fivestar.append(db.values[i])\n",
      "\n",
      "onestar"
     ],
     "language": "python",
     "metadata": {},
     "outputs": [
      {
       "metadata": {},
       "output_type": "pyout",
       "prompt_number": 4,
       "text": [
        "[array(['Halloween', 'Helloween', nan, 'Keeper of the Seven Keys, Part 1',\n",
        "        nan, 'rock', 12773376, 798, nan, nan, 7.0, nan, nan,\n",
        "        '5/11/08, 2:11 AM', '1/22/09, 7:59 PM', 128, 44100, nan,\n",
        "        'MPEG audio file', nan, nan, nan, nan, nan, nan, 20.0], dtype=object),\n",
        " array(['Do You Want To Know A Secret', 'The Beatles',\n",
        "        'John Lennon/Paul McCartney', 'Please Please Me', nan, 'Rock',\n",
        "        1911842, 119, 1.0, 1.0, 11.0, 14.0, 1963.0, '12/23/06, 9:44 PM',\n",
        "        '7/3/08, 10:10 PM', 128, 44100, nan, 'AAC audio file', nan, nan,\n",
        "        2.0, '2/16/09, 2:08 AM', nan, nan, 20.0], dtype=object),\n",
        " array(['A Taste Of Honey', 'The Beatles', 'Bobby Scott/Ric Marlow',\n",
        "        'Please Please Me', nan, 'Rock', 2000953, 125, 1.0, 1.0, 12.0, 14.0,\n",
        "        1963.0, '12/23/06, 9:44 PM', '7/3/08, 10:10 PM', 128, 44100, nan,\n",
        "        'AAC audio file', nan, nan, 1.0, '2/16/09, 2:16 AM', nan, nan, 20.0], dtype=object),\n",
        " array(['Luckie', 'Laura Nyro', nan, 'Eli & the Thirteenth Confessio', nan,\n",
        "        'Pop', 7264892, 181, nan, nan, 1.0, nan, 1968.0, '5/30/12, 7:38 AM',\n",
        "        '6/2/12, 4:42 PM', 320, 44100, nan, 'MPEG audio file', nan,\n",
        "        \"++tagged using an unregistered copy of Rip'N'Tagit++\", nan, nan,\n",
        "        1.0, '11/30/13, 7:06 PM', 20.0], dtype=object),\n",
        " array(['The Long And Winding Road', 'The Beatles',\n",
        "        'John Lennon & Paul McCartney', '1', nan, 'Pop', 3531322, 217, 1.0,\n",
        "        1.0, 27.0, 27.0, 1970.0, '12/23/06, 10:34 PM', '7/3/08, 10:10 PM',\n",
        "        128, 44100, nan, 'AAC audio file', nan, nan, nan, nan, nan, nan,\n",
        "        20.0], dtype=object),\n",
        " array(['Just a Song Before I Go', 'Crosby, Stills, Nash & Young', nan,\n",
        "        'Carry On (1 of 2)', nan, 'Rock', 2153704, 134, nan, nan, 16.0, nan,\n",
        "        1980.0, '3/11/14, 5:57 PM', '7/3/08, 10:07 PM', 128, 44100, nan,\n",
        "        'MPEG audio file', nan, nan, nan, nan, nan, nan, 20.0], dtype=object),\n",
        " array(['Wonderful Tonight', 'Eric Clapton', 'Clapton',\n",
        "        'Just One Night (Disc 1)', nan, 'Rock', 4603213, 283, 1.0, 2.0, 4.0,\n",
        "        8.0, 1980.0, '11/15/05, 12:23 AM', '7/3/08, 10:08 PM', 128, 44100,\n",
        "        nan, 'AAC audio file', nan, nan, 1.0, '5/31/13, 8:37 PM', 1.0,\n",
        "        '11/30/08, 6:03 PM', 20.0], dtype=object),\n",
        " array(['Borderline', 'Madonna', 'Reggie Lucas',\n",
        "        'The Immaculate Collection', nan, 'Pop', 3888603, 240, 1.0, 1.0,\n",
        "        3.0, 17.0, 1983.0, '6/7/05, 7:57 PM', '7/3/08, 10:09 PM', 128,\n",
        "        44100, nan, 'AAC audio file', nan, nan, nan, nan, nan, nan, 20.0], dtype=object),\n",
        " array(['The Working Hour', 'Tears For Fears', nan,\n",
        "        'Songs From The Big Chair', nan, 'Pop', 15673974, 391, nan, nan,\n",
        "        2.0, nan, 1985.0, '5/30/12, 7:03 AM', '6/2/12, 4:40 PM', 320, 44100,\n",
        "        nan, 'MPEG audio file', nan, nan, nan, nan, 1.0, '2/7/13, 10:56 PM',\n",
        "        20.0], dtype=object),\n",
        " array(['All I Ask', 'Crowded House', nan, 'Woodface', nan, 'Rock', 5520129,\n",
        "        236, nan, nan, 10.0, nan, 1991.0, '1/3/08, 4:27 PM',\n",
        "        '7/3/08, 10:07 PM', 186, 44100, nan, 'MPEG audio file', nan,\n",
        "        '\\xc3\\x9cberStandard - UberNet.org', nan, nan, nan, nan, 20.0], dtype=object),\n",
        " array(['A Great Day For Freedom', 'Pink Floyd', 'David Gilmour',\n",
        "        'The Division Bell', nan, 'Rock', 4177199, 257, 1.0, 1.0, 5.0, 11.0,\n",
        "        1994.0, '1/7/07, 8:34 PM', '7/3/08, 10:09 PM', 128, 44100, nan,\n",
        "        'AAC audio file', nan, nan, nan, nan, 1.0, '11/30/13, 7:06 PM', 20.0], dtype=object),\n",
        " array(['Morning Raga', 'Popol Vuh', 'Popol Vuh', 'City Raga', nan,\n",
        "        'Experimental', 6789348, 339, nan, nan, 5.0, 7.0, 1995.0,\n",
        "        '5/30/12, 3:18 AM', '5/30/12, 3:18 AM', 160, 44100, nan,\n",
        "        'MPEG audio file', nan, nan, 1.0, '8/1/13, 12:27 PM', nan, nan, 20.0], dtype=object),\n",
        " array(['A Happening For Lulu', 'The Jimi Hendrix Experience', 'Lulu',\n",
        "        'BBC Sessions [Disc 2]', nan, 'Rock', 366294, 19, 2.0, 2.0, 15.0,\n",
        "        19.0, 1998.0, '12/25/06, 3:43 AM', '7/3/08, 10:10 PM', 128, 44100,\n",
        "        nan, 'AAC audio file', nan, nan, 1.0, '12/1/08, 12:55 AM', nan, nan,\n",
        "        20.0], dtype=object),\n",
        " array([\"It Keeps You Runnin'\", 'The Doobie Brothers', nan,\n",
        "        \"Long Train Rinnin': 1970 - 2000 (CD2 Wheels of Fortune)\", nan,\n",
        "        'Rock', 6903517, 257, nan, nan, 11.0, nan, 1999.0,\n",
        "        '6/21/07, 3:50 PM', '7/3/08, 10:10 PM', 214, 44100, nan,\n",
        "        'MPEG audio file', nan, '\\xc3\\x9cberStandard - UberNet.org', nan,\n",
        "        nan, nan, nan, 20.0], dtype=object),\n",
        " array(['A PAIR OF OLD SNEAKERS', 'George Jones',\n",
        "        'Glenn Sutton/Larry Kingston', 'THE LEGENDARY', nan, 'Country',\n",
        "        5833177, 145, nan, nan, 20.0, nan, 1999.0, '6/21/09, 2:00 AM',\n",
        "        '7/4/09, 10:15 AM', 320, 44100, nan, 'MPEG audio file', nan, nan,\n",
        "        1.0, '8/15/12, 5:40 PM', nan, nan, 20.0], dtype=object),\n",
        " array(['I Never Knew', 'The Skatalites', nan, 'Bashaka', nan, 'Ska',\n",
        "        4370432, 218, nan, nan, 11.0, nan, 2000.0, '12/2/08, 9:35 AM',\n",
        "        '1/2/09, 10:10 PM', 160, 44100, nan, 'MPEG audio file', nan, nan,\n",
        "        nan, nan, 2.0, '5/20/12, 3:29 PM', 20.0], dtype=object),\n",
        " array(['Intro', 'John Peel', nan, 'FabricLive 07: John Peel', nan, 'Funk',\n",
        "        1860062, 73, nan, nan, 1.0, 24.0, 2002.0, '5/19/12, 3:15 AM',\n",
        "        '5/23/12, 6:32 PM', 192, 44100, nan, 'MPEG audio file', nan, nan,\n",
        "        1.0, '8/3/12, 4:08 PM', nan, nan, 20.0], dtype=object),\n",
        " array(['For The Love Of You, Parts 1 & 2', 'Joss Stone',\n",
        "        'Christopher Jasper; Ernest Isley; Kelly Isley; Marvin Isley; Ronald Isley; Rudolph Isley',\n",
        "        'The Soul Sessions', nan, 'R&B', 7344533, 453, 1.0, 1.0, 10.0, 10.0,\n",
        "        2003.0, '4/27/05, 12:44 PM', '7/3/08, 10:08 PM', 128, 44100, nan,\n",
        "        'AAC audio file', nan, nan, nan, nan, 1.0, '8/3/08, 3:02 PM', 20.0], dtype=object),\n",
        " array(['Dragonball', 'Bahirij', nan, 'Bombay Beats', nan, 'World', 4458083,\n",
        "        274, nan, nan, 9.0, 19.0, 2004.0, '8/24/06, 12:57 PM',\n",
        "        '7/3/08, 10:06 PM', 128, 44100, nan, 'AAC audio file', nan, nan,\n",
        "        nan, nan, nan, nan, 20.0], dtype=object),\n",
        " array(['11th Ave Freakout Pt 1', 'Odd Nosdam', nan, 'Burner', nan,\n",
        "        'Electronica', 2468602, 150, nan, nan, 6.0, 12.0, 2005.0,\n",
        "        '2/11/09, 9:10 PM', '7/3/08, 10:09 PM', 128, 44100, nan,\n",
        "        'AAC audio file', nan, nan, nan, nan, nan, nan, 20.0], dtype=object),\n",
        " array(['Hate It Or Love It (Remix) (Feat. G-Unit)', '50 Cent', nan,\n",
        "        'Rap Single', nan, 'Rap', 4225024, 263, nan, nan, 20.0, nan, 2005.0,\n",
        "        '10/18/05, 3:51 PM', '7/3/08, 10:06 PM', 128, 44100, nan,\n",
        "        'MPEG audio file', nan, nan, 1.0, '3/10/14, 11:13 AM', nan, nan,\n",
        "        20.0], dtype=object),\n",
        " array(['Outer Spaceways Inc - Original', 'Sun Ra', 'Sun Ra',\n",
        "        'The Solar-Myth Approach Vol. 1 & 2 CD2', nan, 'Jazz', 1955808, 81,\n",
        "        1.0, 1.0, 2.0, 7.0, 2006.0, '4/19/11, 3:08 PM', '5/4/11, 7:13 PM',\n",
        "        192, 44100, nan, 'MPEG audio file', nan, nan, 1.0,\n",
        "        '8/3/13, 6:46 AM', nan, nan, 20.0], dtype=object),\n",
        " array(['Free Your Mind (On The Floor)', 'Benny Benassi Feat. Farenheit',\n",
        "        nan, 'Rock N Rave', nan, 'House', 7744971, 319, nan, nan, 9.0, nan,\n",
        "        2008.0, '1/27/09, 3:06 PM', '1/27/09, 3:47 PM', 194, 44100, nan,\n",
        "        'MPEG audio file', nan, 'www.torrentazos.com', nan, nan, 1.0,\n",
        "        '1/27/09, 5:43 PM', 20.0], dtype=object),\n",
        " array(['Everybody Everybody', 'Black Box Vs. Benny Benassi', nan,\n",
        "        'Rock N Rave', nan, 'House', 11316957, 445, nan, nan, 13.0, nan,\n",
        "        2008.0, '1/27/09, 3:03 PM', '1/27/09, 3:47 PM', 203, 44100, nan,\n",
        "        'MPEG audio file', nan, 'www.torrentazos.com', nan, nan, nan, nan,\n",
        "        20.0], dtype=object),\n",
        " array(['Love Me Or Hate Me', 'Lil Wayne', nan,\n",
        "        'Tha Carter III (Bonus Disc)', nan, 'Rap', 7587417, 241, nan, nan,\n",
        "        4.0, 5.0, 2008.0, '3/11/14, 6:29 PM', '2/7/09, 8:37 PM', 256, 44100,\n",
        "        nan, 'AAC audio file', nan, nan, nan, nan, nan, nan, 20.0], dtype=object),\n",
        " array(['Later Is Now', 'Devo', nan, 'Something For Everybody', nan, 'Rock',\n",
        "        7672466, 232, 1.0, 1.0, 10.0, 12.0, 2010.0, '6/17/10, 12:33 AM',\n",
        "        '6/17/10, 4:30 PM', 262, 44100, nan, 'MPEG audio file', nan, nan,\n",
        "        nan, nan, nan, nan, 20.0], dtype=object),\n",
        " array(['The Popular Thing', 'Jukebox The Ghost', nan,\n",
        "        'Everything Under the Sun', nan, 'Indie Rock', 7791853, 223, nan,\n",
        "        nan, 11.0, nan, 2010.0, '3/11/14, 3:44 PM', '7/27/10, 10:38 PM',\n",
        "        267, 44100, nan, 'MPEG audio file', nan, nan, nan, nan, nan, nan,\n",
        "        20.0], dtype=object),\n",
        " array(['8 Gega', 'Praed', nan, 'The Wire Tapper 27', nan, 'Alternative',\n",
        "        8129662, 247, 1.0, 1.0, 3.0, 20.0, 2011.0, '5/18/12, 1:32 PM',\n",
        "        '5/18/12, 1:31 PM', 256, 44100, nan, 'AAC audio file', nan, nan,\n",
        "        nan, nan, nan, nan, 20.0], dtype=object)]"
       ]
      }
     ],
     "prompt_number": 4
    },
    {
     "cell_type": "code",
     "collapsed": false,
     "input": [
      "# now save playlists so we can import to iTunes\n",
      "fieldnames = list(db)\n",
      "dfone = pandas.core.frame.DataFrame(onestar, columns=fieldnames)\n",
      "dftwo = pandas.core.frame.DataFrame(twostar, columns=fieldnames)\n",
      "dfthree = pandas.core.frame.DataFrame(threestar, columns=fieldnames)\n",
      "dffour = pandas.core.frame.DataFrame(fourstar, columns=fieldnames)\n",
      "dffive = pandas.core.frame.DataFrame(fivestar, columns=fieldnames)"
     ],
     "language": "python",
     "metadata": {},
     "outputs": [],
     "prompt_number": 5
    },
    {
     "cell_type": "code",
     "collapsed": false,
     "input": [
      "dfone.to_csv('Onestar_062414.txt',sep='\\t')\n",
      "dftwo.to_csv('Twostar_062414.txt', sep='\\t')\n",
      "dfthree.to_csv('Threestar_062414.txt', sep='\\t')\n",
      "dffour.to_csv('Fourstar_062414.txt', sep='\\t')\n",
      "dffive.to_csv('Fivestar_062414.txt', sep='\\t')"
     ],
     "language": "python",
     "metadata": {},
     "outputs": [],
     "prompt_number": 6
    },
    {
     "cell_type": "code",
     "collapsed": false,
     "input": [
      "songs_rated = float(len(onestar) + len(twostar) + len(threestar) + len(fourstar) + len(fivestar))/len(ratings)"
     ],
     "language": "python",
     "metadata": {},
     "outputs": [],
     "prompt_number": 7
    },
    {
     "cell_type": "code",
     "collapsed": false,
     "input": [
      "songs_rated"
     ],
     "language": "python",
     "metadata": {},
     "outputs": [
      {
       "metadata": {},
       "output_type": "pyout",
       "prompt_number": 8,
       "text": [
        "0.10955234874610774"
       ]
      }
     ],
     "prompt_number": 8
    },
    {
     "cell_type": "code",
     "collapsed": false,
     "input": [
      "for item in db['Name']:\n",
      "    print item"
     ],
     "language": "python",
     "metadata": {},
     "outputs": []
    },
    {
     "cell_type": "code",
     "collapsed": false,
     "input": [
      "# A different approach: lookup items from the \"new\" (local) DB_NEW in the database to be merged, DB.\n",
      "\n",
      "# define tuples of song, artist, album to look up in the new db\n",
      "# Careful, because there are certainly songs with the same name and different artists out there.\n",
      "db_new_lookup = db_new[['Name', 'Artist', 'Album']]\n",
      "db_new_lookup['Name'][5]\n",
      "\n",
      "# for item in db_new_lookup:\n",
      "#     # print(item.loc)\n",
      "#     # if item is in the old library and doesn't have a rating in the new, update it to the old rating\n",
      "#     # need to do NaN handling too\n",
      "#     if item in db & db_new['My Rating'][item] == nan:\n",
      "#         db_new['My Rating'][item] = db['My Rating'][item]\n",
      "#         db_new['Plays'][item] += db['Plays'][item]\n",
      "#         db_new['Skips'][item] += db['Skips'][item]\n",
      "#         # update last played and last skipped too"
     ],
     "language": "python",
     "metadata": {},
     "outputs": [
      {
       "metadata": {},
       "output_type": "pyout",
       "prompt_number": 48,
       "text": [
        "'Tell Me Why'"
       ]
      }
     ],
     "prompt_number": 48
    },
    {
     "cell_type": "code",
     "collapsed": false,
     "input": [
      "for i in xrange(0, len(db_new)):\n",
      "    if db_new['Name'][i] in db['Name'] & db_new['Artist'][i] in db['Artist'] & db_new['Album'][i] in db['Album'] & math.isnan(db_new['My Rating']):\n",
      "        # need to get the index of item\n",
      "        db_new['My Rating'][i] = db['My Rating'][item]\n",
      "        db_new['Plays'][i] += db['Plays'][item]\n",
      "        db_new['Skips'][i] += db['Skips'][item]\n"
     ],
     "language": "python",
     "metadata": {},
     "outputs": [
      {
       "ename": "TypeError",
       "evalue": "cannot compare a dtyped [object] array with a scalar of type [bool]",
       "output_type": "pyerr",
       "traceback": [
        "\u001b[0;31m---------------------------------------------------------------------------\u001b[0m\n\u001b[0;31mTypeError\u001b[0m                                 Traceback (most recent call last)",
        "\u001b[0;32m<ipython-input-49-18499748c223>\u001b[0m in \u001b[0;36m<module>\u001b[0;34m()\u001b[0m\n\u001b[1;32m      1\u001b[0m \u001b[0;32mfor\u001b[0m \u001b[0mi\u001b[0m \u001b[0;32min\u001b[0m \u001b[0mxrange\u001b[0m\u001b[0;34m(\u001b[0m\u001b[0;36m0\u001b[0m\u001b[0;34m,\u001b[0m \u001b[0mlen\u001b[0m\u001b[0;34m(\u001b[0m\u001b[0mdb_new\u001b[0m\u001b[0;34m)\u001b[0m\u001b[0;34m)\u001b[0m\u001b[0;34m:\u001b[0m\u001b[0;34m\u001b[0m\u001b[0m\n\u001b[0;32m----> 2\u001b[0;31m     \u001b[0;32mif\u001b[0m \u001b[0mdb_new\u001b[0m\u001b[0;34m[\u001b[0m\u001b[0;34m'Name'\u001b[0m\u001b[0;34m]\u001b[0m\u001b[0;34m[\u001b[0m\u001b[0mi\u001b[0m\u001b[0;34m]\u001b[0m \u001b[0;32min\u001b[0m \u001b[0mdb\u001b[0m\u001b[0;34m[\u001b[0m\u001b[0;34m'Name'\u001b[0m\u001b[0;34m]\u001b[0m \u001b[0;34m&\u001b[0m \u001b[0mdb_new\u001b[0m\u001b[0;34m[\u001b[0m\u001b[0;34m'Artist'\u001b[0m\u001b[0;34m]\u001b[0m\u001b[0;34m[\u001b[0m\u001b[0mi\u001b[0m\u001b[0;34m]\u001b[0m \u001b[0;32min\u001b[0m \u001b[0mdb\u001b[0m\u001b[0;34m[\u001b[0m\u001b[0;34m'Artist'\u001b[0m\u001b[0;34m]\u001b[0m \u001b[0;34m&\u001b[0m \u001b[0mdb_new\u001b[0m\u001b[0;34m[\u001b[0m\u001b[0;34m'Album'\u001b[0m\u001b[0;34m]\u001b[0m\u001b[0;34m[\u001b[0m\u001b[0mi\u001b[0m\u001b[0;34m]\u001b[0m \u001b[0;32min\u001b[0m \u001b[0mdb\u001b[0m\u001b[0;34m[\u001b[0m\u001b[0;34m'Album'\u001b[0m\u001b[0;34m]\u001b[0m \u001b[0;34m&\u001b[0m \u001b[0mmath\u001b[0m\u001b[0;34m.\u001b[0m\u001b[0misnan\u001b[0m\u001b[0;34m(\u001b[0m\u001b[0mdb_new\u001b[0m\u001b[0;34m[\u001b[0m\u001b[0;34m'My Rating'\u001b[0m\u001b[0;34m]\u001b[0m\u001b[0;34m)\u001b[0m\u001b[0;34m:\u001b[0m\u001b[0;34m\u001b[0m\u001b[0m\n\u001b[0m\u001b[1;32m      3\u001b[0m         \u001b[0;31m# need to get the index of item\u001b[0m\u001b[0;34m\u001b[0m\u001b[0;34m\u001b[0m\u001b[0m\n\u001b[1;32m      4\u001b[0m         \u001b[0mdb_new\u001b[0m\u001b[0;34m[\u001b[0m\u001b[0;34m'My Rating'\u001b[0m\u001b[0;34m]\u001b[0m\u001b[0;34m[\u001b[0m\u001b[0mi\u001b[0m\u001b[0;34m]\u001b[0m \u001b[0;34m=\u001b[0m \u001b[0mdb\u001b[0m\u001b[0;34m[\u001b[0m\u001b[0;34m'My Rating'\u001b[0m\u001b[0;34m]\u001b[0m\u001b[0;34m[\u001b[0m\u001b[0mitem\u001b[0m\u001b[0;34m]\u001b[0m\u001b[0;34m\u001b[0m\u001b[0m\n\u001b[1;32m      5\u001b[0m         \u001b[0mdb_new\u001b[0m\u001b[0;34m[\u001b[0m\u001b[0;34m'Plays'\u001b[0m\u001b[0;34m]\u001b[0m\u001b[0;34m[\u001b[0m\u001b[0mi\u001b[0m\u001b[0;34m]\u001b[0m \u001b[0;34m+=\u001b[0m \u001b[0mdb\u001b[0m\u001b[0;34m[\u001b[0m\u001b[0;34m'Plays'\u001b[0m\u001b[0;34m]\u001b[0m\u001b[0;34m[\u001b[0m\u001b[0mitem\u001b[0m\u001b[0;34m]\u001b[0m\u001b[0;34m\u001b[0m\u001b[0m\n",
        "\u001b[0;32m/Users/probraino/.virtualenvs/tmamm2/lib/python2.7/site-packages/pandas/core/ops.pyc\u001b[0m in \u001b[0;36mwrapper\u001b[0;34m(self, other)\u001b[0m\n\u001b[1;32m    635\u001b[0m         \u001b[0;32melse\u001b[0m\u001b[0;34m:\u001b[0m\u001b[0;34m\u001b[0m\u001b[0m\n\u001b[1;32m    636\u001b[0m             \u001b[0;31m# scalars\u001b[0m\u001b[0;34m\u001b[0m\u001b[0;34m\u001b[0m\u001b[0m\n\u001b[0;32m--> 637\u001b[0;31m             res = self._constructor(na_op(self.values, other),\n\u001b[0m\u001b[1;32m    638\u001b[0m                                     index=self.index).fillna(False)\n\u001b[1;32m    639\u001b[0m             \u001b[0;32mreturn\u001b[0m \u001b[0mres\u001b[0m\u001b[0;34m.\u001b[0m\u001b[0mastype\u001b[0m\u001b[0;34m(\u001b[0m\u001b[0mbool\u001b[0m\u001b[0;34m)\u001b[0m\u001b[0;34m.\u001b[0m\u001b[0m__finalize__\u001b[0m\u001b[0;34m(\u001b[0m\u001b[0mself\u001b[0m\u001b[0;34m)\u001b[0m\u001b[0;34m\u001b[0m\u001b[0m\n",
        "\u001b[0;32m/Users/probraino/.virtualenvs/tmamm2/lib/python2.7/site-packages/pandas/core/ops.pyc\u001b[0m in \u001b[0;36mna_op\u001b[0;34m(x, y)\u001b[0m\n\u001b[1;32m    619\u001b[0m                     raise TypeError(\"cannot compare a dtyped [{0}] array with \"\n\u001b[1;32m    620\u001b[0m                                     \"a scalar of type [{1}]\".format(\n\u001b[0;32m--> 621\u001b[0;31m                                         x.dtype, type(y).__name__))\n\u001b[0m\u001b[1;32m    622\u001b[0m \u001b[0;34m\u001b[0m\u001b[0m\n\u001b[1;32m    623\u001b[0m         \u001b[0;32mreturn\u001b[0m \u001b[0mresult\u001b[0m\u001b[0;34m\u001b[0m\u001b[0m\n",
        "\u001b[0;31mTypeError\u001b[0m: cannot compare a dtyped [object] array with a scalar of type [bool]"
       ]
      }
     ],
     "prompt_number": 49
    },
    {
     "cell_type": "code",
     "collapsed": false,
     "input": [],
     "language": "python",
     "metadata": {},
     "outputs": []
    }
   ],
   "metadata": {}
  }
 ]
}